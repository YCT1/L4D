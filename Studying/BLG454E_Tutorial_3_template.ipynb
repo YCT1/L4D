{
 "cells": [
  {
   "cell_type": "markdown",
   "metadata": {},
   "source": [
    "# BLG454E Learning From Data - Tutorial 3"
   ]
  },
  {
   "cell_type": "markdown",
   "metadata": {},
   "source": [
    "#### T.A. : Şeymanur Aktı, akti15@itu.edu.tr"
   ]
  },
  {
   "cell_type": "markdown",
   "metadata": {},
   "source": [
    "This tutorial is prepared based on the exercises in Machine Learning Refined Textbook Chapter 4."
   ]
  },
  {
   "cell_type": "code",
   "execution_count": 9,
   "metadata": {},
   "outputs": [],
   "source": [
    "import numpy as np\n",
    "import matplotlib.pyplot as plt\n",
    "import pandas as pd\n",
    "from sklearn.model_selection import KFold"
   ]
  },
  {
   "cell_type": "markdown",
   "metadata": {},
   "source": [
    "### Exercise 4-3 \n",
    "\n",
    "In this exercise we need to minimize softmax loss using gradient descent in order to find the linear bound between classes of the given imbalanced dataset.\n",
    "\n",
    "First, let's load and examine the data."
   ]
  },
  {
   "cell_type": "code",
   "execution_count": 10,
   "metadata": {},
   "outputs": [],
   "source": [
    "# import training data \n",
    "def load_data(csvname):\n",
    "    # load in data\n",
    "    data = np.asarray(pd.read_csv(csvname,header=None))\n",
    "    X = data[:,0:-1]\n",
    "    y = data[:,-1]\n",
    "    y.shape = (len(y),1)\n",
    "    \n",
    "    # pad data with ones for more compact gradient computation\n",
    "    o = np.ones((np.shape(X)[0],1))\n",
    "    X = np.concatenate((o,X),axis = 1)\n",
    "    X = X.T\n",
    "    \n",
    "    return X,y"
   ]
  },
  {
   "cell_type": "code",
   "execution_count": 11,
   "metadata": {},
   "outputs": [
    {
     "name": "stdout",
     "output_type": "stream",
     "text": [
      "X shape:  (3, 100)\n",
      "y shape:  (100, 1)\n"
     ]
    },
    {
     "data": {
      "image/png": "[encoded data removed]",
      "text/plain": [
       "<Figure size 432x288 with 1 Axes>"
      ]
     },
     "metadata": {
      "needs_background": "light"
     },
     "output_type": "display_data"
    }
   ],
   "source": [
    "X, y = load_data(\"data/imbalanced_2class.csv\")\n",
    "\n",
    "print(\"X shape: \", X.shape)\n",
    "print(\"y shape: \", y.shape)\n",
    "\n",
    "class1 = X[:, np.argwhere(y==1)] \n",
    "class2 = X[:, np.argwhere(y==-1)]\n",
    "\n",
    "plt.scatter(class1[1], class1[2], color=\"green\")\n",
    "plt.scatter(class2[1], class2[2], color=\"orange\")\n",
    "plt.show()"
   ]
  },
  {
   "cell_type": "markdown",
   "metadata": {},
   "source": [
    "Next, we will implement the gradient descent on softmax function in order to find the soft bound that seperates two classes.\n",
    "\n",
    "<br>\n",
    "<center> $ \\tilde{x}_{p} = \\begin{bmatrix} 1\\\\x_{p}\\end{bmatrix} \\tilde{w} = \\begin{bmatrix}b\\\\w \\end{bmatrix} $ </center>\n",
    "<br>\n",
    "<center> $g(\\tilde{w})= \\sum_{p=1}^{P}log(1+e^{-y_{p}\\tilde{x}_{p}^{T}\\tilde{w}})$ </center>\n",
    "<br>\n",
    "<center> $ \\nabla g (\\tilde{w}) = - \\sum_{p=1}^{P} \\sigma(-y_{p}\\tilde{x}_{p}^{T}\\tilde{w}) y_{p}\\tilde{x}_{p} $ </center>\n",
    "\n"
   ]
  },
  {
   "cell_type": "code",
   "execution_count": 24,
   "metadata": {},
   "outputs": [],
   "source": [
    "### TODO: YOUR CODE GOES HERE ###\n",
    "# gradient descent function for softmax cost/logistic regression \n",
    "    \n",
    "def sigmoid(x):\n",
    "    return 1/(1+np.exp(-x))\n",
    "    \n",
    "def softmax_grad(X,y):\n",
    "    # Initializations \n",
    "    w = np.random.randn(3,1);        # random initial point\n",
    "    alpha = 10**-2\n",
    "    max_its = 2000\n",
    "    \n",
    "    for k in range(max_its):\n",
    "        \n",
    "        ## fill here \n",
    "        w = w -alpha*X @ (-sigmoid(-y * X.T @ w) *y)\n",
    "        \n",
    "    return w"
   ]
  },
  {
   "cell_type": "markdown",
   "metadata": {},
   "source": [
    "Then, let's plot and see the bound on data."
   ]
  },
  {
   "cell_type": "code",
   "execution_count": 25,
   "metadata": {},
   "outputs": [],
   "source": [
    "# plots everything \n",
    "def plot_all(X,y,w):\n",
    "    # custom colors for plotting points\n",
    "    red = [1,0,0.4]  \n",
    "    blue = [0,0.4,1]\n",
    "    \n",
    "    # scatter plot points\n",
    "    fig = plt.figure(figsize = (4,4))\n",
    "    ind = np.argwhere(y==1)\n",
    "    ind = [s[0] for s in ind]\n",
    "    plt.scatter(X[1,ind],X[2,ind],color = red,edgecolor = 'k',s = 25)\n",
    "    ind = np.argwhere(y==-1)\n",
    "    ind = [s[0] for s in ind]\n",
    "    plt.scatter(X[1,ind],X[2,ind],color = blue,edgecolor = 'k',s = 25)\n",
    "    plt.grid('off')\n",
    "    \n",
    "    # plot separator\n",
    "    s = np.linspace(0,1,100) \n",
    "    plt.plot(s,(-w[0]-w[1]*s)/w[2],color = 'k',linewidth = 2)\n",
    "    \n",
    "    # clean up plot\n",
    "    plt.xlim([-0.1,1.1])\n",
    "    plt.ylim([-0.1,1.1])\n",
    "    plt.show()"
   ]
  },
  {
   "cell_type": "code",
   "execution_count": 26,
   "metadata": {},
   "outputs": [
    {
     "data": {
      "image/png": "[encoded data removed]",
      "text/plain": [
       "<Figure size 288x288 with 1 Axes>"
      ]
     },
     "metadata": {
      "needs_background": "light"
     },
     "output_type": "display_data"
    }
   ],
   "source": [
    "# load in data\n",
    "X,y = load_data('data/imbalanced_2class.csv')\n",
    "\n",
    "# run gradient descent\n",
    "w = softmax_grad(X,y)\n",
    "\n",
    "# plot points and separator\n",
    "plot_all(X,y,w)"
   ]
  },
  {
   "cell_type": "markdown",
   "metadata": {},
   "source": [
    "### Exercise 4-4 \n",
    "\n",
    "In this exercise we need to use Newton's method in order to minimize the softmax loss and find the boundary between the classes of given overlapping dataset.\n",
    "\n",
    "First, let's load and examine the data."
   ]
  },
  {
   "cell_type": "code",
   "execution_count": 27,
   "metadata": {},
   "outputs": [
    {
     "name": "stdout",
     "output_type": "stream",
     "text": [
      "X shape:  (3, 100)\n",
      "y shape:  (100, 1)\n"
     ]
    },
    {
     "data": {
      "image/png": "[encoded data removed]",
      "text/plain": [
       "<Figure size 432x288 with 1 Axes>"
      ]
     },
     "metadata": {
      "needs_background": "light"
     },
     "output_type": "display_data"
    }
   ],
   "source": [
    "X,y = load_data('data/overlapping_2class.csv')\n",
    "print(\"X shape: \", X.shape)\n",
    "print(\"y shape: \", y.shape)\n",
    "\n",
    "class1 = X[:, np.argwhere(y==1)] \n",
    "class2 = X[:, np.argwhere(y==-1)]\n",
    "\n",
    "plt.scatter(class1[1], class1[2], color=\"green\")\n",
    "plt.scatter(class2[1], class2[2], color=\"orange\")\n",
    "plt.show()"
   ]
  },
  {
   "cell_type": "markdown",
   "metadata": {},
   "source": [
    "Next, we will implement the Newton's method in order to estimate the optimum weights that gives the best boundary between the classes.\n",
    "\n",
    "<br>\n",
    "\n",
    "<center> $ w_{n+1} = w_{n} - H^{-1} \\nabla g(w_{n}) $ </center>\n",
    "\n",
    "<br>\n",
    "    \n",
    "<center> $ H = \\sum_{p=1}^{P} \\sigma(-y_{p}\\tilde{x}_{p}^{T}\\tilde{w}) (1- \\sigma(-y_{p}\\tilde{x}_{p}^{T}\\tilde{w})) \\tilde{x}_{p}\\tilde{x}_{p}^{T} $ </center>\n"
   ]
  },
  {
   "cell_type": "code",
   "execution_count": 40,
   "metadata": {},
   "outputs": [],
   "source": [
    "### TODO: YOUR CODE GOES HERE ###\n",
    "# run newton's method\n",
    "def newtons_method(x,y):\n",
    "    # begin newton's method loop\n",
    "    max_its = 20\n",
    "    w = np.random.randn(3,1);        # random initial point\n",
    "\n",
    "    for k in range(max_its):\n",
    "        \n",
    "        s = sigmoid(-y * (X.T @ w))\n",
    "        grad_w = -X @ (s*y)\n",
    "        \n",
    "        H = ((s * (1-s)).T * X) @ X.T\n",
    "        H_inv = np.linalg.inv(H)\n",
    "        w = w- H_inv @ grad_w\n",
    "        \n",
    "        # fill here\n",
    "        \n",
    "    return w"
   ]
  },
  {
   "cell_type": "code",
   "execution_count": 41,
   "metadata": {},
   "outputs": [
    {
     "data": {
      "image/png": "[encoded data removed]",
      "text/plain": [
       "<Figure size 288x288 with 1 Axes>"
      ]
     },
     "metadata": {
      "needs_background": "light"
     },
     "output_type": "display_data"
    }
   ],
   "source": [
    "# load data\n",
    "X,y = load_data('data/overlapping_2class.csv')\n",
    "\n",
    "# run newtons method to minimize logistic regression or softmax cost\n",
    "w = newtons_method(X,y)\n",
    "\n",
    "# plot everything - including data and separator\n",
    "plot_all(X,y,w)"
   ]
  },
  {
   "cell_type": "markdown",
   "metadata": {},
   "source": [
    "### Exercise 4-7\n",
    "\n",
    "In this experiment, we will find the margin boundary that seperates the classes of imbalanced dataset at Exercise 4-3.\n",
    "\n",
    "We need to implement the gradient descent for minimizing the squared margin cost.\n",
    "\n",
    "<br>\n",
    "<center> $ g(\\tilde{w}) = \\sum_{p=1}^{P} max^{2}(0, 1-y_{p}\\tilde{x}_{p}^{T}\\tilde{w}) $ </center>\n",
    "<br>\n",
    "<center> $ \\nabla g (\\tilde{w}) = -2 \\sum_{p=1}^{P} max(0, 1-y_{p}\\tilde{x}_{p}^{T}\\tilde{w})y_{p}\\tilde{x}_{p}$ </center>"
   ]
  },
  {
   "cell_type": "code",
   "execution_count": 118,
   "metadata": {},
   "outputs": [],
   "source": [
    "### TODO: YOUR CODE GOES HERE ###\n",
    "# gradient descent function for softmax cost/logistic regression \n",
    "def squared_margin_grad(X,y):\n",
    "    # Initializations \n",
    "    w = np.random.randn(3,1);        # random initial point\n",
    "    alpha = 10**-2\n",
    "    max_its = 2000\n",
    "    \n",
    "    for k in range(max_its):\n",
    "        grad_w = -2* np.sum(np.maximum(0,-y * (X.T @ w))*(y*X.T), 0, keepdims=True).T\n",
    "        w = w- alpha*grad_w\n",
    "        ## fill here\n",
    "        \n",
    "    return w"
   ]
  },
  {
   "cell_type": "code",
   "execution_count": 119,
   "metadata": {},
   "outputs": [],
   "source": [
    "# plots everything \n",
    "def plot_all_margin(X,y,w):\n",
    "    # custom colors for plotting points\n",
    "    red = [1,0,0.4]  \n",
    "    blue = [0,0.4,1]\n",
    "    \n",
    "    # scatter plot points\n",
    "    fig = plt.figure(figsize = (4,4))\n",
    "    ind = np.argwhere(y==1)\n",
    "    ind = [s[0] for s in ind]\n",
    "    plt.scatter(X[1,ind],X[2,ind],color = red,edgecolor = 'k',s = 25)\n",
    "    ind = np.argwhere(y==-1)\n",
    "    ind = [s[0] for s in ind]\n",
    "    plt.scatter(X[1,ind],X[2,ind],color = blue,edgecolor = 'k',s = 25)\n",
    "    plt.grid('off')\n",
    "    \n",
    "    # plot separator\n",
    "    s = np.linspace(0,1,100) \n",
    "    plt.plot(s,(-w[0]-w[1]*s)/w[2],color = 'k',linewidth = 2)\n",
    "    plt.plot(s,0.1+((-w[0]-w[1]*s)/w[2]),color = 'k',linewidth = 1,linestyle='--')\n",
    "    plt.plot(s,-0.1+((-w[0]-w[1]*s)/w[2]),color = 'k',linewidth = 1,linestyle='--')\n",
    "    \n",
    "    # clean up plot\n",
    "    plt.xlim([-0.1,1.1])\n",
    "    plt.ylim([-0.1,1.1])\n",
    "    plt.show()"
   ]
  },
  {
   "cell_type": "code",
   "execution_count": 125,
   "metadata": {},
   "outputs": [
    {
     "data": {
      "image/png": "[encoded data removed]",
      "text/plain": [
       "<Figure size 288x288 with 1 Axes>"
      ]
     },
     "metadata": {
      "needs_background": "light"
     },
     "output_type": "display_data"
    }
   ],
   "source": [
    "# load in data\n",
    "X,y = load_data('data/imbalanced_2class.csv')\n",
    "\n",
    "# run gradient descent\n",
    "w = squared_margin_grad(X,y)\n",
    "\n",
    "# plot points and separator\n",
    "plot_all_margin(X,y,w)"
   ]
  },
  {
   "cell_type": "markdown",
   "metadata": {},
   "source": [
    "### Exercise 4-8\n",
    "\n",
    "This time we will be using Newton's method in order to define a margin classifier between the classes of overlapping 2 class data from Exercise 4-4.\n",
    "\n",
    "\n",
    "<br>\n",
    "    <center> $ H = 2 \\sum_{p=1}^{P} \\tilde{x}_{p} \\tilde{x}_{p}^{T}$<br><br>$p: 1-y_{p}\\tilde{x}_{p}^{T}\\tilde{w} > 0$  </center> \n"
   ]
  },
  {
   "cell_type": "code",
   "execution_count": 165,
   "metadata": {},
   "outputs": [],
   "source": [
    "### TODO: YOUR CODE GOES HERE ###\n",
    "# run newton's method\n",
    "def newtons_method(X,y):\n",
    "    # begin newton's method loop\n",
    "    max_its = 20\n",
    "    w = np.random.randn(3,1);        # random initial point\n",
    "\n",
    "    for k in range(max_its):\n",
    "        \n",
    "        grad_w = -2 * np.sum(np.maximum(0, 1 - y * X.T @ w) *y * X.T, 0 , keepdims=True).T\n",
    "        \n",
    "        \n",
    "        new_X = ((1 - y * X.T @ w) > 0) * X.T\n",
    "        H = 2* new_X.T @ new_X \n",
    "        \n",
    "        w = w - np.linalg.inv(H) @ grad_w\n",
    "        ## fill here\n",
    "        \n",
    "        \n",
    "        \n",
    "    return w"
   ]
  },
  {
   "cell_type": "code",
   "execution_count": 166,
   "metadata": {},
   "outputs": [
    {
     "data": {
      "image/png": "[encoded data removed]",
      "text/plain": [
       "<Figure size 288x288 with 1 Axes>"
      ]
     },
     "metadata": {
      "needs_background": "light"
     },
     "output_type": "display_data"
    }
   ],
   "source": [
    "# load data\n",
    "X,y = load_data('data/overlapping_2class.csv')\n",
    "\n",
    "# run newtons method to minimize squared margin or SVM cost\n",
    "w = newtons_method(X,y)\n",
    "\n",
    "# plot everything - including data and separator\n",
    "plot_all_margin(X,y,w)"
   ]
  },
  {
   "cell_type": "markdown",
   "metadata": {},
   "source": [
    "### Exercise 4-9\n",
    "\n",
    "Now, we will compare the performance of soft and margin class perceptrons on breast cancer dataset.\n",
    "\n",
    "Let's load and examine the data."
   ]
  },
  {
   "cell_type": "code",
   "execution_count": 167,
   "metadata": {},
   "outputs": [],
   "source": [
    "def load_data(csvname):\n",
    "    # load in data\n",
    "    data = np.asarray(pd.read_csv(csvname))\n",
    "\n",
    "    # import data and reshape appropriately\n",
    "    X = data[:,0:-1]\n",
    "    y = data[:,-1]\n",
    "    y.shape = (len(y),1)\n",
    "    \n",
    "    # pad data with ones for more compact gradient computation\n",
    "    o = np.ones((np.shape(X)[0],1))\n",
    "    X = np.concatenate((o,X),axis = 1)\n",
    "    X = X.T\n",
    "    \n",
    "    return X,y"
   ]
  },
  {
   "cell_type": "code",
   "execution_count": 168,
   "metadata": {},
   "outputs": [
    {
     "name": "stdout",
     "output_type": "stream",
     "text": [
      "Number of samples:  698\n",
      "Number of features:  9\n",
      "Number of malignant samples (class -1):  241\n",
      "Number of benign samples (class 1):  457\n"
     ]
    }
   ],
   "source": [
    "# load data\n",
    "X,y = load_data('data/breast_cancer_dataset.csv')\n",
    "\n",
    "print(\"Number of samples: \", X.shape[1])\n",
    "print(\"Number of features: \", X.shape[0])\n",
    "print(\"Number of malignant samples (class -1): \", np.sum(y==-1))\n",
    "print(\"Number of benign samples (class 1): \", np.sum(y==1))\n"
   ]
  },
  {
   "cell_type": "code",
   "execution_count": null,
   "metadata": {},
   "outputs": [],
   "source": [
    "### TODO: YOUR CODE GOES HERE ###\n",
    "# run newton's method\n",
    "def squared_margin_newtons_method(X,y,w):\n",
    "    # begin newton's method loop    \n",
    "    max_its = 20\n",
    "    misclass_history = []\n",
    "    for k in range(max_its):\n",
    "\n",
    "        ## fill here\n",
    "        \n",
    "        \n",
    "    return misclass_history"
   ]
  },
  {
   "cell_type": "code",
   "execution_count": null,
   "metadata": {},
   "outputs": [],
   "source": [
    "# run newton's method \n",
    "def softmax_newtons_method(X,y,w):\n",
    "    # begin newton's method loop\n",
    "    max_its = 20\n",
    "    misclass_history = []\n",
    "    \n",
    "    for k in range(max_its):\n",
    "\n",
    "        ## fill here\n",
    "        \n",
    "        \n",
    "    return misclass_history"
   ]
  },
  {
   "cell_type": "code",
   "execution_count": null,
   "metadata": {},
   "outputs": [],
   "source": [
    "# function for counting the number of misclassifications\n",
    "def count_misclasses(X,y,w):\n",
    "    y_pred = np.sign(np.dot(X.T,w))\n",
    "    num_misclassed = len(y) - len([i for i, j in zip(y, y_pred) if i == j])\n",
    "    return num_misclassed"
   ]
  },
  {
   "cell_type": "code",
   "execution_count": null,
   "metadata": {},
   "outputs": [],
   "source": [
    "# run newtons method to minimize squared margin or SVM cost\n",
    "w = np.zeros((np.shape(X)[0],1))\n",
    "squared_margin_history = squared_margin_newtons_method(X,y,w)\n",
    "\n",
    "# run newtons method to minimize logistic regression or softmax cost\n",
    "w = np.zeros((np.shape(X)[0],1))\n",
    "softmax_cost_history = softmax_newtons_method(X,y,w)\n",
    "\n",
    "# plot results\n",
    "plt.plot(squared_margin_history,color = 'm')\n",
    "plt.plot(softmax_cost_history,'k')\n",
    "\n",
    "# clean up plot\n",
    "plt.ylim([min(min(squared_margin_history),min(softmax_cost_history)) - 1,max(max(squared_margin_history),max(softmax_cost_history)) + 1])\n",
    "plt.xlabel('iteration of Newtons method')\n",
    "plt.ylabel('number of misclassifications')\n",
    "plt.legend(['squared margin','softmax'])\n",
    "plt.show()"
   ]
  },
  {
   "cell_type": "markdown",
   "metadata": {},
   "source": [
    "### Exercise 4-10\n",
    "\n",
    "Now, we will compare the performance of soft and margin class perceptrons on face dataset, this time gradient descent method will be used for minimizing the cost.\n",
    "\n",
    "Let's load and examine the data."
   ]
  },
  {
   "cell_type": "code",
   "execution_count": 169,
   "metadata": {},
   "outputs": [
    {
     "name": "stdout",
     "output_type": "stream",
     "text": [
      "Number of samples:  9999\n",
      "Number of features:  497\n",
      "Number of non-face samples (class -1):  7000\n",
      "Number of face samples (class 1):  2999\n"
     ]
    }
   ],
   "source": [
    "# load data\n",
    "X,y = load_data('data/feat_face_data.csv')\n",
    "\n",
    "print(\"Number of samples: \", X.shape[1])\n",
    "print(\"Number of features: \", X.shape[0])\n",
    "print(\"Number of non-face samples (class -1): \", np.sum(y==-1))\n",
    "print(\"Number of face samples (class 1): \", np.sum(y==1))"
   ]
  },
  {
   "cell_type": "code",
   "execution_count": null,
   "metadata": {},
   "outputs": [],
   "source": [
    "### TODO: YOUR CODE GOES HERE ###\n",
    "# run gradient descent\n",
    "def squared_margin_grad(X,y,w):\n",
    "    # begin gradient descent loop    \n",
    "    max_its = 100\n",
    "    misclass_history = []\n",
    "    alpha = 10**-4\n",
    "    for k in range(max_its):\n",
    "        \n",
    "        ## fill here\n",
    "    \n",
    "        \n",
    "    return misclass_history"
   ]
  },
  {
   "cell_type": "code",
   "execution_count": null,
   "metadata": {},
   "outputs": [],
   "source": [
    "# run gradient descent method\n",
    "def softmax_grad(X,y,w):\n",
    "    # begin gradient descent loop\n",
    "    max_its = 100\n",
    "    misclass_history = []\n",
    "    alpha = 10**-3\n",
    "    for k in range(max_its):\n",
    "\n",
    "        #fill here\n",
    "        \n",
    "        \n",
    "    return misclass_history"
   ]
  },
  {
   "cell_type": "code",
   "execution_count": null,
   "metadata": {},
   "outputs": [],
   "source": [
    "# function for counting the number of misclassifications\n",
    "def count_misclasses(X,y,w):\n",
    "    y_pred = np.sign(np.dot(X.T,w))\n",
    "    num_misclassed = len(y) - len([i for i, j in zip(y, y_pred) if i == j])\n",
    "    return num_misclassed"
   ]
  },
  {
   "cell_type": "code",
   "execution_count": null,
   "metadata": {},
   "outputs": [],
   "source": [
    "# run newtons method to minimize squared margin or SVM cost\n",
    "w = np.zeros((np.shape(X)[0],1))\n",
    "squared_margin_history = squared_margin_grad(X,y,w)\n",
    "\n",
    "# run newtons method to minimize logistic regression or softmax cost\n",
    "w = np.zeros((np.shape(X)[0],1))\n",
    "softmax_cost_history = softmax_grad(X,y,w)\n",
    "\n",
    "# plot results\n",
    "plt.plot(squared_margin_history,color = 'm')\n",
    "plt.plot(softmax_cost_history,'k')\n",
    "\n",
    "# clean up plot\n",
    "plt.ylim([min(min(squared_margin_history),min(softmax_cost_history)) - 1,max(max(squared_margin_history),max(softmax_cost_history)) + 1])\n",
    "plt.xlabel('iteration of Gradient Descent')\n",
    "plt.ylabel('number of misclassifications')\n",
    "plt.legend(['squared margin','softmax'])\n",
    "plt.show()"
   ]
  },
  {
   "cell_type": "markdown",
   "metadata": {},
   "source": [
    "### Extra Exercise\n",
    "\n",
    "This time, we will implement gradient descent in order to find the soft and margin perceptrons on (a) breast cancer data and (b) face data using 5-fold cross validation."
   ]
  },
  {
   "cell_type": "code",
   "execution_count": null,
   "metadata": {},
   "outputs": [],
   "source": [
    "def squared_margin_grad(X,y,w):\n",
    "    # begin gradient descent   \n",
    "    max_its = 100\n",
    "    misclass_history = []\n",
    "    alpha = 10**-4\n",
    "    for k in range(max_its):\n",
    "        grad_w = -2 * np.sum(np.maximum(0, 1-(y * X.T) @ w)* y*X.T, 0, keepdims=True).T\n",
    "        w = w - alpha * grad_w\n",
    "        \n",
    "        \n",
    "    return w\n",
    "\n",
    "# run newton's method \n",
    "def softmax_grad(X,y,w):\n",
    "    # begin gradient descent\n",
    "    max_its = 100\n",
    "    misclass_history = []\n",
    "    alpha = 10**-3\n",
    "    for k in range(max_its):\n",
    "\n",
    "        grad_w = -X @ (sigmoid(-y * (X.T @ w))*y)\n",
    "        w = w - alpha * grad_w\n",
    "    \n",
    "    return w"
   ]
  },
  {
   "cell_type": "markdown",
   "metadata": {},
   "source": [
    "Let's use 5 fold cross validation and see the results of soft and margin perceptrons."
   ]
  },
  {
   "cell_type": "code",
   "execution_count": null,
   "metadata": {},
   "outputs": [],
   "source": [
    "\n",
    "def train(X,y):\n",
    "    \n",
    "    cv_splits = KFold(5, shuffle=True, random_state=44)\n",
    "    \n",
    "    margin_accs = []\n",
    "    soft_accs= []\n",
    "    \n",
    "    for n, (train_index, test_index) in enumerate(cv_splits.split(X)):\n",
    "        X_train, X_test, y_train, y_test = X[:,train_index], X[:,test_index], y[train_index], y[test_index]\n",
    "\n",
    "        # run gradient descent to minimize squared margin or SVM cost\n",
    "        w = np.zeros((np.shape(X_train)[0],1))\n",
    "        w_margin = squared_margin_grad(X_train,y_train,w)\n",
    "\n",
    "        # run gradient descent to minimize logistic regression or softmax cost\n",
    "        w = np.zeros((np.shape(X_train)[0],1))\n",
    "        w_soft = softmax_grad(X_train,y_train,w)\n",
    "\n",
    "\n",
    "        margin_acc = 1 - (count_misclasses(X_test, y_test, w_margin)/X.shape[1])\n",
    "        soft_acc = 1 - (count_misclasses(X_test, y_test, w_soft)/X.shape[1])\n",
    "\n",
    "        margin_accs.append(margin_acc)\n",
    "        soft_accs.append(soft_acc)\n",
    "\n",
    "    print(\"Margin perceptron cross validation results: \", np.mean(margin_accs), \"+/-\", np.std(margin_accs))\n",
    "    print(\"Soft perceptron cross validation results: \", np.mean(soft_accs), \"+/-\", np.std(soft_accs) )    \n"
   ]
  },
  {
   "cell_type": "code",
   "execution_count": null,
   "metadata": {},
   "outputs": [],
   "source": [
    "X,y = load_data('data/breast_cancer_dataset.csv')\n",
    "\n",
    "train(X,y)"
   ]
  },
  {
   "cell_type": "code",
   "execution_count": null,
   "metadata": {},
   "outputs": [],
   "source": [
    "X,y = load_data('data/feat_face_data.csv')\n",
    "\n",
    "train(X,y)"
   ]
  },
  {
   "cell_type": "code",
   "execution_count": null,
   "metadata": {},
   "outputs": [],
   "source": []
  }
 ],
 "metadata": {
  "kernelspec": {
   "display_name": "Python 3",
   "language": "python",
   "name": "python3"
  },
  "language_info": {
   "codemirror_mode": {
    "name": "ipython",
    "version": 3
   },
   "file_extension": ".py",
   "mimetype": "text/x-python",
   "name": "python",
   "nbconvert_exporter": "python",
   "pygments_lexer": "ipython3",
   "version": "3.9.2"
  }
 },
 "nbformat": 4,
 "nbformat_minor": 2
}
