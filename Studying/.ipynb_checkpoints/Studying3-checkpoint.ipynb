{
 "cells": [
  {
   "cell_type": "code",
   "execution_count": 1,
   "id": "civilian-speaker",
   "metadata": {},
   "outputs": [],
   "source": [
    "# This file is associated with the book\n",
    "# \"Machine Learning Refined\", Cambridge University Press, 2016.\n",
    "# by Jeremy Watt, Reza Borhani, and Aggelos Katsaggelos.\n",
    "\n",
    "import numpy as np\n",
    "import matplotlib.pyplot as plt\n",
    "import pandas as pd"
   ]
  },
  {
   "cell_type": "code",
   "execution_count": 2,
   "id": "political-congo",
   "metadata": {},
   "outputs": [],
   "source": [
    "# import training data \n",
    "def load_data(csvname):\n",
    "    # load in data\n",
    "    data = np.asarray(pd.read_csv(csvname,header = None))\n",
    "\n",
    "    X = data[:,0:-1]\n",
    "    y = data[:,-1]\n",
    "    y.shape = (len(y),1)\n",
    "    \n",
    "    # pad data with ones for more compact gradient computation\n",
    "    o = np.ones((np.shape(X)[0],1))\n",
    "    X = np.concatenate((o,X),axis = 1)\n",
    "    \n",
    "    return X,y"
   ]
  },
  {
   "cell_type": "code",
   "execution_count": 4,
   "id": "bronze-elizabeth",
   "metadata": {},
   "outputs": [],
   "source": [
    "X,y = load_data('overlapping_2class.csv')\n"
   ]
  },
  {
   "cell_type": "code",
   "execution_count": 88,
   "id": "adult-massachusetts",
   "metadata": {},
   "outputs": [
    {
     "name": "stdout",
     "output_type": "stream",
     "text": [
      "[61.26015235]\n"
     ]
    }
   ],
   "source": [
    "def softmaxApprox(X,w,y,lamda):\n",
    "    result = 0\n",
    "    p = 0\n",
    "    while p < len(X):\n",
    "        result += np.log(1+np.exp(  -y[p]* (X[p] @ w))) + lamda*np.linalg.norm(w0[1:])\n",
    "        p += 1\n",
    "    return result\n",
    "\n",
    "\n",
    "\n",
    "def arraySoftMaxApprox(X,w,y,lamda)\n",
    "    return np.sum(np.log(1+np.exp(  -y[p]* (X[p] @ w))) + lamda*np.linalg.norm(w0[1:]))\n",
    "\n",
    "\n",
    "lams = 0\n",
    "w0 = np.random.randn(3,1)\n",
    "\n",
    "print(softmaxApprox(X,w0,y,lams))\n",
    "print(arraySoftMaxApprox(X))"
   ]
  },
  {
   "cell_type": "markdown",
   "id": "located-somewhere",
   "metadata": {},
   "source": [
    "<br>\n",
    "<center> $g(b, w) = \\sum_{p=1}^{P} log ( 1 + e^{- y_{p}(b + x_{p}^T w)}) + \\lambda\\left \\| w \\right \\|_2^2$ </center>\n",
    "    \n",
    "<br>   "
   ]
  },
  {
   "cell_type": "code",
   "execution_count": null,
   "id": "cardiovascular-separate",
   "metadata": {},
   "outputs": [],
   "source": []
  }
 ],
 "metadata": {
  "kernelspec": {
   "display_name": "Python 3",
   "language": "python",
   "name": "python3"
  },
  "language_info": {
   "codemirror_mode": {
    "name": "ipython",
    "version": 3
   },
   "file_extension": ".py",
   "mimetype": "text/x-python",
   "name": "python",
   "nbconvert_exporter": "python",
   "pygments_lexer": "ipython3",
   "version": "3.9.2"
  }
 },
 "nbformat": 4,
 "nbformat_minor": 5
}
