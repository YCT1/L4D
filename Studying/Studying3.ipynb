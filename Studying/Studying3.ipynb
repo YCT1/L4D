{
 "cells": [
  {
   "cell_type": "code",
   "execution_count": 1,
   "id": "relevant-project",
   "metadata": {},
   "outputs": [],
   "source": [
    "# This file is associated with the book\n",
    "# \"Machine Learning Refined\", Cambridge University Press, 2016.\n",
    "# by Jeremy Watt, Reza Borhani, and Aggelos Katsaggelos.\n",
    "\n",
    "import numpy as np\n",
    "import matplotlib.pyplot as plt\n",
    "import pandas as pd"
   ]
  },
  {
   "cell_type": "code",
   "execution_count": 2,
   "id": "forbidden-dimension",
   "metadata": {},
   "outputs": [],
   "source": [
    "# import training data \n",
    "def load_data(csvname):\n",
    "    # load in data\n",
    "    data = np.asarray(pd.read_csv(csvname,header = None))\n",
    "\n",
    "    X = data[:,0:-1]\n",
    "    y = data[:,-1]\n",
    "    y.shape = (len(y),1)\n",
    "    \n",
    "    # pad data with ones for more compact gradient computation\n",
    "    o = np.ones((np.shape(X)[0],1))\n",
    "    X = np.concatenate((o,X),axis = 1)\n",
    "    \n",
    "    return X,y"
   ]
  },
  {
   "cell_type": "code",
   "execution_count": 4,
   "id": "grave-domain",
   "metadata": {},
   "outputs": [],
   "source": [
    "X,y = load_data('overlapping_2class.csv')\n"
   ]
  },
  {
   "cell_type": "code",
   "execution_count": 93,
   "id": "dental-christopher",
   "metadata": {},
   "outputs": [
    {
     "name": "stdout",
     "output_type": "stream",
     "text": [
      "[71.55827265]\n",
      "71.55827264810509\n"
     ]
    }
   ],
   "source": [
    "def softmaxApprox(X,w,y,lamda):\n",
    "    result = 0\n",
    "    p = 0\n",
    "    while p < len(X):\n",
    "        result += np.log(1+np.exp(  -y[p]* (X[p] @ w))) + lamda*np.linalg.norm(w0[1:])\n",
    "        p += 1\n",
    "    return result\n",
    "\n",
    "\n",
    "\n",
    "def arraySoftMaxApprox(X,w,y,lamda):\n",
    "    return np.sum(np.log(1+np.exp(  -y* (X @ w))) + lamda*np.linalg.norm(w0[1:]))\n",
    "\n",
    "\n",
    "lams = 0\n",
    "w0 = np.random.randn(3,1)\n",
    "\n",
    "print(softmaxApprox(X,w0,y,lams))\n",
    "print(arraySoftMaxApprox(X,w0,y,lams))"
   ]
  },
  {
   "cell_type": "markdown",
   "id": "whole-pharmacy",
   "metadata": {},
   "source": [
    "<br>\n",
    "<center> $g(b, w) = \\sum_{p=1}^{P} log ( 1 + e^{- y_{p}(b + x_{p}^T w)}) + \\lambda\\left \\| w \\right \\|_2^2$ </center>\n",
    "    \n",
    "<br>   "
   ]
  },
  {
   "cell_type": "code",
   "execution_count": 98,
   "id": "canadian-tomato",
   "metadata": {},
   "outputs": [],
   "source": [
    "# run gradient descent\n",
    "def gradient_descent_soft_cost(X,y,w,alpha,lam):\n",
    "    # start gradient descent loop\n",
    "    max_its = 10000\n",
    "    for k in range(max_its):\n",
    "        w = w - alpha*softmaxApprox(X,w,y,lam)\n",
    "        # It is not probably true\n",
    "        \n",
    "    return w"
   ]
  },
  {
   "cell_type": "code",
   "execution_count": 99,
   "id": "mysterious-asian",
   "metadata": {},
   "outputs": [
    {
     "name": "stderr",
     "output_type": "stream",
     "text": [
      "<ipython-input-93-3dd6d250643d>:5: RuntimeWarning: overflow encountered in exp\n",
      "  result += np.log(1+np.exp(  -y[p]* (X[p] @ w))) + lamda*np.linalg.norm(w0[1:])\n",
      "<ipython-input-93-3dd6d250643d>:5: RuntimeWarning: invalid value encountered in matmul\n",
      "  result += np.log(1+np.exp(  -y[p]* (X[p] @ w))) + lamda*np.linalg.norm(w0[1:])\n"
     ]
    }
   ],
   "source": [
    "w = gradient_descent_soft_cost(X,y,w0,10**-2,0)"
   ]
  },
  {
   "cell_type": "code",
   "execution_count": null,
   "id": "appropriate-symposium",
   "metadata": {},
   "outputs": [],
   "source": []
  }
 ],
 "metadata": {
  "kernelspec": {
   "display_name": "Python 3",
   "language": "python",
   "name": "python3"
  },
  "language_info": {
   "codemirror_mode": {
    "name": "ipython",
    "version": 3
   },
   "file_extension": ".py",
   "mimetype": "text/x-python",
   "name": "python",
   "nbconvert_exporter": "python",
   "pygments_lexer": "ipython3",
   "version": "3.9.2"
  }
 },
 "nbformat": 4,
 "nbformat_minor": 5
}
