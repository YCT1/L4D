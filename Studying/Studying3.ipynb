{
 "cells": [
  {
   "cell_type": "code",
   "execution_count": 1,
   "id": "printable-touch",
   "metadata": {},
   "outputs": [],
   "source": [
    "# This file is associated with the book\n",
    "# \"Machine Learning Refined\", Cambridge University Press, 2016.\n",
    "# by Jeremy Watt, Reza Borhani, and Aggelos Katsaggelos.\n",
    "\n",
    "import numpy as np\n",
    "import matplotlib.pyplot as plt\n",
    "import pandas as pd"
   ]
  },
  {
   "cell_type": "code",
   "execution_count": 2,
   "id": "automotive-taylor",
   "metadata": {},
   "outputs": [],
   "source": [
    "# import training data \n",
    "def load_data(csvname):\n",
    "    # load in data\n",
    "    data = np.asarray(pd.read_csv(csvname,header = None))\n",
    "\n",
    "    X = data[:,0:-1]\n",
    "    y = data[:,-1]\n",
    "    y.shape = (len(y),1)\n",
    "    \n",
    "    # pad data with ones for more compact gradient computation\n",
    "    o = np.ones((np.shape(X)[0],1))\n",
    "    X = np.concatenate((o,X),axis = 1)\n",
    "    \n",
    "    return X,y"
   ]
  },
  {
   "cell_type": "code",
   "execution_count": 3,
   "id": "mathematical-interest",
   "metadata": {},
   "outputs": [],
   "source": [
    "X,y = load_data('overlapping_2class.csv')\n"
   ]
  },
  {
   "cell_type": "code",
   "execution_count": 4,
   "id": "level-transcription",
   "metadata": {},
   "outputs": [
    {
     "name": "stdout",
     "output_type": "stream",
     "text": [
      "[109.44125556]\n",
      "109.44125556006013\n"
     ]
    }
   ],
   "source": [
    "def softmaxApprox(X,w,y,lamda):\n",
    "    result = 0\n",
    "    p = 0\n",
    "    while p < len(X):\n",
    "        result += np.log(1+np.exp(  -y[p]* (X[p] @ w))) + lamda*np.linalg.norm(w0[1:])\n",
    "        p += 1\n",
    "    return result\n",
    "\n",
    "\n",
    "\n",
    "def arraySoftMaxApprox(X,w,y,lamda):\n",
    "    return np.sum(np.log(1+np.exp(  -y* (X @ w))) + lamda*np.linalg.norm(w0[1:]))\n",
    "\n",
    "\n",
    "lams = 0\n",
    "w0 = np.random.randn(3,1)\n",
    "\n",
    "print(softmaxApprox(X,w0,y,lams))\n",
    "print(arraySoftMaxApprox(X,w0,y,lams))"
   ]
  },
  {
   "cell_type": "markdown",
   "id": "necessary-phase",
   "metadata": {},
   "source": [
    "<br>\n",
    "<center> $g(b, w) = \\sum_{p=1}^{P} log ( 1 + e^{- y_{p}(b + x_{p}^T w)}) + \\lambda\\left \\| w \\right \\|_2^2$ </center>\n",
    "    \n",
    "<br>   "
   ]
  },
  {
   "cell_type": "code",
   "execution_count": 8,
   "id": "contemporary-hamilton",
   "metadata": {},
   "outputs": [],
   "source": [
    "# run gradient descent\n",
    "# Softmax Approx Function\n",
    "def softmaxApprox(X,w,y,lamda):\n",
    "    return np.sum(np.log(1+np.exp(  -y* (X @ w))) + lamda*np.linalg.norm(w0[1:]))\n",
    "\n",
    "# Sigmoid Function that we are going to use in the grad of softmaxApprox\n",
    "def sigmoid(x):\n",
    "    return 1/ (1 + np.exp(-x))\n",
    "\n",
    "# Gradient of Softmax Approx Function\n",
    "def grad_softmaxApprox(X,y,w):\n",
    "    s = sigmoid(-y * (X.T @ w))\n",
    "    return -X @ (s * y)\n",
    "\n",
    "# run gradient descent\n",
    "def gradient_descent_soft_cost(X,y,w,alpha,lam):\n",
    "    # start gradient descent loop\n",
    "    max_its = 10000\n",
    "    for k in range(max_its):\n",
    "        w = w - alpha*grad_softmaxApprox(X,y,w)\n",
    "        # It is without lamda\n",
    "        \n",
    "    return w"
   ]
  },
  {
   "cell_type": "code",
   "execution_count": 9,
   "id": "covered-niger",
   "metadata": {},
   "outputs": [
    {
     "ename": "ValueError",
     "evalue": "matmul: Input operand 1 has a mismatch in its core dimension 0, with gufunc signature (n?,k),(k,m?)->(n?,m?) (size 3 is different from 100)",
     "output_type": "error",
     "traceback": [
      "\u001b[1;31m---------------------------------------------------------------------------\u001b[0m",
      "\u001b[1;31mValueError\u001b[0m                                Traceback (most recent call last)",
      "\u001b[1;32m<ipython-input-9-b7e6247a1ab0>\u001b[0m in \u001b[0;36m<module>\u001b[1;34m\u001b[0m\n\u001b[1;32m----> 1\u001b[1;33m \u001b[0mw\u001b[0m \u001b[1;33m=\u001b[0m \u001b[0mgradient_descent_soft_cost\u001b[0m\u001b[1;33m(\u001b[0m\u001b[0mX\u001b[0m\u001b[1;33m,\u001b[0m\u001b[0my\u001b[0m\u001b[1;33m,\u001b[0m\u001b[0mw0\u001b[0m\u001b[1;33m,\u001b[0m\u001b[1;36m10\u001b[0m\u001b[1;33m**\u001b[0m\u001b[1;33m-\u001b[0m\u001b[1;36m2\u001b[0m\u001b[1;33m,\u001b[0m\u001b[1;36m0\u001b[0m\u001b[1;33m)\u001b[0m\u001b[1;33m\u001b[0m\u001b[1;33m\u001b[0m\u001b[0m\n\u001b[0m",
      "\u001b[1;32m<ipython-input-8-e9bef0bb4233>\u001b[0m in \u001b[0;36mgradient_descent_soft_cost\u001b[1;34m(X, y, w, alpha, lam)\u001b[0m\n\u001b[0;32m     18\u001b[0m     \u001b[0mmax_its\u001b[0m \u001b[1;33m=\u001b[0m \u001b[1;36m10000\u001b[0m\u001b[1;33m\u001b[0m\u001b[1;33m\u001b[0m\u001b[0m\n\u001b[0;32m     19\u001b[0m     \u001b[1;32mfor\u001b[0m \u001b[0mk\u001b[0m \u001b[1;32min\u001b[0m \u001b[0mrange\u001b[0m\u001b[1;33m(\u001b[0m\u001b[0mmax_its\u001b[0m\u001b[1;33m)\u001b[0m\u001b[1;33m:\u001b[0m\u001b[1;33m\u001b[0m\u001b[1;33m\u001b[0m\u001b[0m\n\u001b[1;32m---> 20\u001b[1;33m         \u001b[0mw\u001b[0m \u001b[1;33m=\u001b[0m \u001b[0mw\u001b[0m \u001b[1;33m-\u001b[0m \u001b[0malpha\u001b[0m\u001b[1;33m*\u001b[0m\u001b[0mgrad_softmaxApprox\u001b[0m\u001b[1;33m(\u001b[0m\u001b[0mX\u001b[0m\u001b[1;33m,\u001b[0m\u001b[0my\u001b[0m\u001b[1;33m,\u001b[0m\u001b[0mw\u001b[0m\u001b[1;33m)\u001b[0m\u001b[1;33m\u001b[0m\u001b[1;33m\u001b[0m\u001b[0m\n\u001b[0m\u001b[0;32m     21\u001b[0m         \u001b[1;31m# It is without lamda\u001b[0m\u001b[1;33m\u001b[0m\u001b[1;33m\u001b[0m\u001b[1;33m\u001b[0m\u001b[0m\n\u001b[0;32m     22\u001b[0m \u001b[1;33m\u001b[0m\u001b[0m\n",
      "\u001b[1;32m<ipython-input-8-e9bef0bb4233>\u001b[0m in \u001b[0;36mgrad_softmaxApprox\u001b[1;34m(X, y, w)\u001b[0m\n\u001b[0;32m     10\u001b[0m \u001b[1;31m# Gradient of Softmax Approx Function\u001b[0m\u001b[1;33m\u001b[0m\u001b[1;33m\u001b[0m\u001b[1;33m\u001b[0m\u001b[0m\n\u001b[0;32m     11\u001b[0m \u001b[1;32mdef\u001b[0m \u001b[0mgrad_softmaxApprox\u001b[0m\u001b[1;33m(\u001b[0m\u001b[0mX\u001b[0m\u001b[1;33m,\u001b[0m\u001b[0my\u001b[0m\u001b[1;33m,\u001b[0m\u001b[0mw\u001b[0m\u001b[1;33m)\u001b[0m\u001b[1;33m:\u001b[0m\u001b[1;33m\u001b[0m\u001b[1;33m\u001b[0m\u001b[0m\n\u001b[1;32m---> 12\u001b[1;33m     \u001b[0ms\u001b[0m \u001b[1;33m=\u001b[0m \u001b[0msigmoid\u001b[0m\u001b[1;33m(\u001b[0m\u001b[1;33m-\u001b[0m\u001b[0my\u001b[0m \u001b[1;33m*\u001b[0m \u001b[1;33m(\u001b[0m\u001b[0mX\u001b[0m\u001b[1;33m.\u001b[0m\u001b[0mT\u001b[0m \u001b[1;33m@\u001b[0m \u001b[0mw\u001b[0m\u001b[1;33m)\u001b[0m\u001b[1;33m)\u001b[0m\u001b[1;33m\u001b[0m\u001b[1;33m\u001b[0m\u001b[0m\n\u001b[0m\u001b[0;32m     13\u001b[0m     \u001b[1;32mreturn\u001b[0m \u001b[1;33m-\u001b[0m\u001b[0mX\u001b[0m \u001b[1;33m@\u001b[0m \u001b[1;33m(\u001b[0m\u001b[0ms\u001b[0m \u001b[1;33m*\u001b[0m \u001b[0my\u001b[0m\u001b[1;33m)\u001b[0m\u001b[1;33m\u001b[0m\u001b[1;33m\u001b[0m\u001b[0m\n\u001b[0;32m     14\u001b[0m \u001b[1;33m\u001b[0m\u001b[0m\n",
      "\u001b[1;31mValueError\u001b[0m: matmul: Input operand 1 has a mismatch in its core dimension 0, with gufunc signature (n?,k),(k,m?)->(n?,m?) (size 3 is different from 100)"
     ]
    }
   ],
   "source": [
    "w = gradient_descent_soft_cost(X,y,w0,10**-2,0)"
   ]
  },
  {
   "cell_type": "code",
   "execution_count": 16,
   "id": "iraqi-crown",
   "metadata": {},
   "outputs": [
    {
     "name": "stdout",
     "output_type": "stream",
     "text": [
      "[[-1.08657917]\n",
      " [-0.92320248]\n",
      " [-1.72898294]]\n",
      "[[ 1.         1.         1.         1.         1.         1.\n",
      "   1.         1.         1.         1.         1.         1.\n",
      "   1.         1.         1.         1.         1.         1.\n",
      "   1.         1.         1.         1.         1.         1.\n",
      "   1.         1.         1.         1.         1.         1.\n",
      "   1.         1.         1.         1.         1.         1.\n",
      "   1.         1.         1.         1.         1.         1.\n",
      "   1.         1.         1.         1.         1.         1.\n",
      "   1.         1.         1.         1.         1.         1.\n",
      "   1.         1.         1.         1.         1.         1.\n",
      "   1.         1.         1.         1.         1.         1.\n",
      "   1.         1.         1.         1.         1.         1.\n",
      "   1.         1.         1.         1.         1.         1.\n",
      "   1.         1.         1.         1.         1.         1.\n",
      "   1.         1.         1.         1.         1.         1.\n",
      "   1.         1.         1.         1.         1.         1.\n",
      "   1.         1.         1.         1.       ]\n",
      " [ 0.78051    0.28774    0.40714    0.2923     0.50922    0.27785\n",
      "   0.27527    0.43999    0.33557    0.23448    0.0084492  0.12419\n",
      "   0.25644    0.4591     0.44547    0.42218    0.49563    0.30848\n",
      "   0.39707    0.32945    0.40739    0.3106     0.49638    0.10073\n",
      "   0.69907    0.29767    0.15099    0.16427    0.33259    0.53741\n",
      "   0.19503    0.40278    0.21296    0.48447    0.25476    0.21726\n",
      "   0.67078    0.3815     0.53838    0.4849     0.37095    0.54527\n",
      "   0.32149    0.42216    0.10194    0.15254    0.45558    0.28488\n",
      "   0.27633    0.39748    0.5533     0.44274    0.85176    0.60436\n",
      "   0.68243    1.         0.72989    0.67377    0.78761    0.71442\n",
      "   0.49379    0.78974    0.67905    0.6642     0.79396    0.70758\n",
      "   0.59421    0.49364    0.77707    0.79785    0.70876    0.69176\n",
      "   0.66408    0.65973    0.64574    0.89639    0.85476    0.62091\n",
      "   0.79057    0.58935    0.56846    0.65912    0.70938    0.59154\n",
      "   0.45829    0.79982    0.60974    0.68127    0.76694    0.69048\n",
      "   0.68122    0.73229    0.76145    0.58985    0.73145    0.77029\n",
      "   0.73156    0.44556    0.85275    0.51912  ]\n",
      " [-0.063669   0.29139    0.17878    0.4217     0.35256    0.10802\n",
      "   0.33223    0.31245    0.42984    0.24986    0.13658    0.33595\n",
      "   0.42624    0.40426    0.45117    0.20118    0.21445    0.24306\n",
      "   0.44438    0.39217    0.40271    0.50702    0.45384    0.32053\n",
      "   0.37307    0.69648    0.57341    0.27759    0.055964   0.28637\n",
      "   0.36879    0.035148   0.55169    0.56991    0.34596    0.28641\n",
      "   0.46538    0.4622     0.32774    0.26071    0.38809    0.63911\n",
      "   0.12007    0.61666    0.060408   0.2168     0.43769    0.52142\n",
      "   0.21264    0.31902    1.         0.59205    0.6612     0.86605\n",
      "   0.48301    0.76815    0.8107     0.77975    0.58177    0.7668\n",
      "   0.54226    0.74233    0.60921    0.72519    0.56789    0.76022\n",
      "   0.61857    0.56224    0.35025    0.76921    0.96764    0.60865\n",
      "   0.92075    0.66666    0.56845    0.7085     0.63167    0.80424\n",
      "   0.56108    0.71582    0.7406     0.71548    0.74041    0.62927\n",
      "   0.4641     0.74847    0.54757    0.86985    0.64736    0.83058\n",
      "   0.96541    0.64245    0.60138    0.86955    0.74516    0.7014\n",
      "   0.71782    0.57991    0.85987    0.62359  ]]\n",
      "[[-1.69706532]\n",
      " [-1.85602979]\n",
      " [-1.7715594 ]\n",
      " [-2.08554336]\n",
      " [-2.16626256]\n",
      " [-1.52985571]\n",
      " [-1.91512912]\n",
      " [-2.03299975]\n",
      " [-2.13956425]\n",
      " [-1.73505536]\n",
      " [-1.33052398]\n",
      " [-1.7820835 ]\n",
      " [-2.0602869 ]\n",
      " [-2.20938007]\n",
      " [-2.27790341]\n",
      " [-1.82417358]\n",
      " [-1.91492641]\n",
      " [-1.79161526]\n",
      " [-2.22148061]\n",
      " [-2.06878346]\n",
      " [-2.15896135]\n",
      " [-2.24995479]\n",
      " [-2.32952003]\n",
      " [-1.73376425]\n",
      " [-2.37699399]\n",
      " [-2.56559089]\n",
      " [-2.21738962]\n",
      " [-1.71818201]\n",
      " [-1.49038788]\n",
      " [-2.07784626]\n",
      " [-1.90426296]\n",
      " [-1.51919696]\n",
      " [-2.23704696]\n",
      " [-2.51920774]\n",
      " [-1.91993317]\n",
      " [-1.78235214]\n",
      " [-2.51047901]\n",
      " [-2.23791683]\n",
      " [-2.15026979]\n",
      " [-1.98500319]\n",
      " [-2.10004212]\n",
      " [-2.69498407]\n",
      " [-1.59097852]\n",
      " [-2.54251295]\n",
      " [-1.28513483]\n",
      " [-1.60224797]\n",
      " [-2.2639303 ]\n",
      " [-2.25110737]\n",
      " [-1.70933864]\n",
      " [-2.00511383]\n",
      " [-3.32637004]\n",
      " [-2.51896218]\n",
      " [-3.01612963]\n",
      " [-3.14191149]\n",
      " [-2.55171629]\n",
      " [-3.33789989]\n",
      " [-3.16210189]\n",
      " [-3.05677975]\n",
      " [-2.81957308]\n",
      " [-3.0719176 ]\n",
      " [-2.48000561]\n",
      " [-3.099145  ]\n",
      " [-2.76679351]\n",
      " [-2.95361139]\n",
      " [-2.80143713]\n",
      " [-3.05422619]\n",
      " [-2.70465229]\n",
      " [-2.51441221]\n",
      " [-2.4095484 ]\n",
      " [-3.15310723]\n",
      " [-3.41394121]\n",
      " [-2.77755918]\n",
      " [-3.29162051]\n",
      " [-2.84828731]\n",
      " [-2.66556829]\n",
      " [-3.13911305]\n",
      " [-2.96784237]\n",
      " [-3.05032206]\n",
      " [-2.7865331 ]\n",
      " [-2.86830912]\n",
      " [-2.89186761]\n",
      " [-2.9321331 ]\n",
      " [-3.0216368 ]\n",
      " [-2.72068746]\n",
      " [-2.31209461]\n",
      " [-3.11906684]\n",
      " [-2.59623184]\n",
      " [-3.21948513]\n",
      " [-2.91389447]\n",
      " [-3.16009067]\n",
      " [-3.38466058]\n",
      " [-2.8734162 ]\n",
      " [-2.82932746]\n",
      " [-3.13456726]\n",
      " [-3.05022455]\n",
      " [-3.01042144]\n",
      " [-3.00305571]\n",
      " [-2.50057576]\n",
      " [-3.36054064]\n",
      " [-2.64400851]]\n"
     ]
    }
   ],
   "source": [
    "print(w0)\n",
    "print(X.T)\n",
    "print(X @ w0)\n",
    "#print(-y * (X.T @ w0))"
   ]
  },
  {
   "cell_type": "code",
   "execution_count": 74,
   "id": "married-influence",
   "metadata": {
    "scrolled": true
   },
   "outputs": [
    {
     "name": "stdout",
     "output_type": "stream",
     "text": [
      "[[13]]\n",
      "[[ 0.6]\n",
      " [-1. ]]\n",
      "[[0.4]]\n",
      "\n",
      "[[-3.]]\n",
      "[[3.8]]\n",
      "\n",
      "[[9]]\n"
     ]
    }
   ],
   "source": [
    "x1 = np.array([[0],[-3]])\n",
    "x2 = np.array([[-3],[2]])\n",
    "print(x2.T @ x2)\n",
    "w = 0.2*1*x1 + 0.2*-1*x2\n",
    "print(w)\n",
    "print((-x1.T @ w - x2.T @ w)/2)\n",
    "print()\n",
    "print(-x1.T @ w)\n",
    "print(-x2.T @ w)\n",
    "print()\n",
    "print(x1.T @ x1)"
   ]
  },
  {
   "cell_type": "code",
   "execution_count": 11,
   "id": "dedicated-gamma",
   "metadata": {},
   "outputs": [],
   "source": [
    "from sklearn import svm\n",
    "import numpy as np\n",
    "import matplotlib.pyplot as plt\n",
    "import pandas as pd"
   ]
  },
  {
   "cell_type": "code",
   "execution_count": 92,
   "id": "finite-lightning",
   "metadata": {},
   "outputs": [
    {
     "name": "stdout",
     "output_type": "stream",
     "text": [
      "[ 0.5 -0.5]\n",
      "1.0\n",
      "3.0\n",
      "1.5\n"
     ]
    }
   ],
   "source": [
    "X = [[0, -3], [-3, 2],[-1, 0]]\n",
    "y = [1, -1, 1]\n",
    "clf = svm.SVC(kernel='linear', C=1000)\n",
    "clf.fit(X, y)\n",
    "print(clf.coef_[0])\n",
    "print(-clf.coef_[0][0] / clf.coef_[0][1])\n",
    "print(- (clf.intercept_[0]) / clf.coef_[0][1])\n",
    "print((clf.intercept_[0]))"
   ]
  },
  {
   "cell_type": "code",
   "execution_count": 93,
   "id": "iraqi-thesaurus",
   "metadata": {},
   "outputs": [
    {
     "data": {
      "image/png": "[encoded data removed]",
      "text/plain": [
       "<Figure size 432x288 with 1 Axes>"
      ]
     },
     "metadata": {
      "needs_background": "light"
     },
     "output_type": "display_data"
    }
   ],
   "source": [
    "# we create 40 separable points\n",
    "\n",
    "\n",
    "# fit the model, don't regularize for illustration purposes\n",
    "clf = svm.SVC(kernel='linear', C=1000)\n",
    "clf.fit(X, y)\n",
    "\n",
    "plt.scatter(X[0][0], X[0][1])\n",
    "plt.scatter(X[1][0], X[1][1])\n",
    "plt.scatter(X[2][0], X[2][1])\n",
    "# plot the decision function\n",
    "ax = plt.gca()\n",
    "xlim = ax.get_xlim()\n",
    "ylim = ax.get_ylim()\n",
    "\n",
    "# create grid to evaluate model\n",
    "xx = np.linspace(xlim[0], xlim[1], 30)\n",
    "yy = np.linspace(ylim[0], ylim[1], 30)\n",
    "YY, XX = np.meshgrid(yy, xx)\n",
    "xy = np.vstack([XX.ravel(), YY.ravel()]).T\n",
    "Z = clf.decision_function(xy).reshape(XX.shape)\n",
    "\n",
    "# plot decision boundary and margins\n",
    "ax.contour(XX, YY, Z, colors='k', levels=[-1, 0, 1], alpha=0.5,\n",
    "           linestyles=['--', '-', '--'])\n",
    "# plot support vectors\n",
    "ax.scatter(clf.support_vectors_[:, 0], clf.support_vectors_[:, 1], s=100,\n",
    "           linewidth=1, facecolors='none', edgecolors='k')\n",
    "plt.show()"
   ]
  },
  {
   "cell_type": "code",
   "execution_count": 81,
   "id": "legendary-capitol",
   "metadata": {},
   "outputs": [
    {
     "data": {
      "text/plain": [
       "array([[1.47058824]])"
      ]
     },
     "execution_count": 81,
     "metadata": {},
     "output_type": "execute_result"
    }
   ],
   "source": [
    "xk = np.array([[1],[1],[-4]])\n",
    "wk = np.array([[2/17],[3/17],[-5/17]])\n",
    "xk.T @ wk\n"
   ]
  },
  {
   "cell_type": "code",
   "execution_count": null,
   "id": "accessory-dakota",
   "metadata": {},
   "outputs": [],
   "source": []
  }
 ],
 "metadata": {
  "kernelspec": {
   "display_name": "Python 3",
   "language": "python",
   "name": "python3"
  },
  "language_info": {
   "codemirror_mode": {
    "name": "ipython",
    "version": 3
   },
   "file_extension": ".py",
   "mimetype": "text/x-python",
   "name": "python",
   "nbconvert_exporter": "python",
   "pygments_lexer": "ipython3",
   "version": "3.9.2"
  }
 },
 "nbformat": 4,
 "nbformat_minor": 5
}
