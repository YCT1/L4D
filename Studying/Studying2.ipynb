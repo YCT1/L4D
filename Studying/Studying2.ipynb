{
 "cells": [
  {
   "source": [
    "# Studying vector structures in the Numpy"
   ],
   "cell_type": "markdown",
   "metadata": {}
  },
  {
   "cell_type": "code",
   "execution_count": 13,
   "metadata": {},
   "outputs": [
    {
     "output_type": "stream",
     "name": "stdout",
     "text": [
      "[[10]]\n[[6 8]\n [3 4]]\n"
     ]
    }
   ],
   "source": [
    "import numpy as np\r\n",
    "\r\n",
    "vector1 = np.array([[2],[1]])\r\n",
    "vector2 = np.array([[3],[4]])\r\n",
    "\r\n",
    "print(vector1.transpose() @ vector2)\r\n",
    "print(vector1 @ vector2.transpose())"
   ]
  },
  {
   "cell_type": "code",
   "execution_count": null,
   "metadata": {},
   "outputs": [],
   "source": []
  }
 ],
 "metadata": {
  "kernelspec": {
   "name": "python392jvsc74a57bd041388d25b359402e3914bc72d50bf2d95f5da4ca628d8fc9100a2b9d5525202f",
   "display_name": "Python 3.9.2 64-bit"
  }
 },
 "nbformat": 4,
 "nbformat_minor": 5
}